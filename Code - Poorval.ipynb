{
 "cells": [
  {
   "cell_type": "markdown",
   "id": "2ed23012",
   "metadata": {},
   "source": [
    "# Appendix A"
   ]
  },
  {
   "cell_type": "markdown",
   "id": "2d793e68",
   "metadata": {},
   "source": [
    "## Import"
   ]
  },
  {
   "cell_type": "code",
   "execution_count": 199,
   "id": "3c2d7b0e",
   "metadata": {},
   "outputs": [],
   "source": [
    "#import libraries\n",
    "import pandas as pd\n",
    "import numpy as np\n",
    "import matplotlib.pyplot as plt\n",
    "import seaborn as sns\n",
    "sns.set()"
   ]
  },
  {
   "cell_type": "code",
   "execution_count": 200,
   "id": "77aa0ec0",
   "metadata": {},
   "outputs": [],
   "source": [
    "#import data\n",
    "df=pd.read_csv('CaseStudyDatasetQ.csv')"
   ]
  },
  {
   "cell_type": "markdown",
   "id": "80a1d26b",
   "metadata": {},
   "source": [
    "## Inspect and Explore Data"
   ]
  },
  {
   "cell_type": "code",
   "execution_count": 201,
   "id": "dfbb77af",
   "metadata": {},
   "outputs": [
    {
     "data": {
      "text/html": [
       "<div>\n",
       "<style scoped>\n",
       "    .dataframe tbody tr th:only-of-type {\n",
       "        vertical-align: middle;\n",
       "    }\n",
       "\n",
       "    .dataframe tbody tr th {\n",
       "        vertical-align: top;\n",
       "    }\n",
       "\n",
       "    .dataframe thead th {\n",
       "        text-align: right;\n",
       "    }\n",
       "</style>\n",
       "<table border=\"1\" class=\"dataframe\">\n",
       "  <thead>\n",
       "    <tr style=\"text-align: right;\">\n",
       "      <th></th>\n",
       "      <th>Counts</th>\n",
       "      <th>distance</th>\n",
       "      <th>weight</th>\n",
       "      <th>age</th>\n",
       "      <th>carage</th>\n",
       "      <th>exposure</th>\n",
       "    </tr>\n",
       "  </thead>\n",
       "  <tbody>\n",
       "    <tr>\n",
       "      <th>count</th>\n",
       "      <td>611000.000000</td>\n",
       "      <td>611000.000000</td>\n",
       "      <td>611000.000000</td>\n",
       "      <td>611000.000000</td>\n",
       "      <td>611000.000000</td>\n",
       "      <td>611000.000000</td>\n",
       "    </tr>\n",
       "    <tr>\n",
       "      <th>mean</th>\n",
       "      <td>0.060939</td>\n",
       "      <td>14.848643</td>\n",
       "      <td>1464.489406</td>\n",
       "      <td>47.252457</td>\n",
       "      <td>7.762165</td>\n",
       "      <td>0.899886</td>\n",
       "    </tr>\n",
       "    <tr>\n",
       "      <th>std</th>\n",
       "      <td>0.247075</td>\n",
       "      <td>14.462616</td>\n",
       "      <td>667.178791</td>\n",
       "      <td>16.052246</td>\n",
       "      <td>6.887672</td>\n",
       "      <td>0.057723</td>\n",
       "    </tr>\n",
       "    <tr>\n",
       "      <th>min</th>\n",
       "      <td>0.000000</td>\n",
       "      <td>1.000000</td>\n",
       "      <td>450.000000</td>\n",
       "      <td>18.000000</td>\n",
       "      <td>1.000000</td>\n",
       "      <td>0.800000</td>\n",
       "    </tr>\n",
       "    <tr>\n",
       "      <th>25%</th>\n",
       "      <td>0.000000</td>\n",
       "      <td>5.000000</td>\n",
       "      <td>962.000000</td>\n",
       "      <td>35.000000</td>\n",
       "      <td>3.000000</td>\n",
       "      <td>0.850004</td>\n",
       "    </tr>\n",
       "    <tr>\n",
       "      <th>50%</th>\n",
       "      <td>0.000000</td>\n",
       "      <td>10.000000</td>\n",
       "      <td>1319.000000</td>\n",
       "      <td>46.000000</td>\n",
       "      <td>5.000000</td>\n",
       "      <td>0.899947</td>\n",
       "    </tr>\n",
       "    <tr>\n",
       "      <th>75%</th>\n",
       "      <td>0.000000</td>\n",
       "      <td>19.000000</td>\n",
       "      <td>1826.000000</td>\n",
       "      <td>58.000000</td>\n",
       "      <td>10.000000</td>\n",
       "      <td>0.949785</td>\n",
       "    </tr>\n",
       "    <tr>\n",
       "      <th>max</th>\n",
       "      <td>3.000000</td>\n",
       "      <td>95.000000</td>\n",
       "      <td>3994.000000</td>\n",
       "      <td>98.000000</td>\n",
       "      <td>45.000000</td>\n",
       "      <td>1.000000</td>\n",
       "    </tr>\n",
       "  </tbody>\n",
       "</table>\n",
       "</div>"
      ],
      "text/plain": [
       "              Counts       distance         weight            age  \\\n",
       "count  611000.000000  611000.000000  611000.000000  611000.000000   \n",
       "mean        0.060939      14.848643    1464.489406      47.252457   \n",
       "std         0.247075      14.462616     667.178791      16.052246   \n",
       "min         0.000000       1.000000     450.000000      18.000000   \n",
       "25%         0.000000       5.000000     962.000000      35.000000   \n",
       "50%         0.000000      10.000000    1319.000000      46.000000   \n",
       "75%         0.000000      19.000000    1826.000000      58.000000   \n",
       "max         3.000000      95.000000    3994.000000      98.000000   \n",
       "\n",
       "              carage       exposure  \n",
       "count  611000.000000  611000.000000  \n",
       "mean        7.762165       0.899886  \n",
       "std         6.887672       0.057723  \n",
       "min         1.000000       0.800000  \n",
       "25%         3.000000       0.850004  \n",
       "50%         5.000000       0.899947  \n",
       "75%        10.000000       0.949785  \n",
       "max        45.000000       1.000000  "
      ]
     },
     "execution_count": 201,
     "metadata": {},
     "output_type": "execute_result"
    }
   ],
   "source": [
    "#summary statistics\n",
    "df.describe()"
   ]
  },
  {
   "cell_type": "code",
   "execution_count": 202,
   "id": "6efca2b4",
   "metadata": {},
   "outputs": [
    {
     "name": "stdout",
     "output_type": "stream",
     "text": [
      "<class 'pandas.core.frame.DataFrame'>\n",
      "RangeIndex: 611000 entries, 0 to 610999\n",
      "Data columns (total 7 columns):\n",
      " #   Column    Non-Null Count   Dtype  \n",
      "---  ------    --------------   -----  \n",
      " 0   Counts    611000 non-null  int64  \n",
      " 1   gender    611000 non-null  object \n",
      " 2   distance  611000 non-null  int64  \n",
      " 3   weight    611000 non-null  int64  \n",
      " 4   age       611000 non-null  int64  \n",
      " 5   carage    611000 non-null  int64  \n",
      " 6   exposure  611000 non-null  float64\n",
      "dtypes: float64(1), int64(5), object(1)\n",
      "memory usage: 32.6+ MB\n"
     ]
    }
   ],
   "source": [
    "#dataframe summary\n",
    "df.info()"
   ]
  },
  {
   "cell_type": "code",
   "execution_count": 203,
   "id": "cfbfb629",
   "metadata": {},
   "outputs": [
    {
     "data": {
      "text/plain": [
       "Counts      0\n",
       "gender      0\n",
       "distance    0\n",
       "weight      0\n",
       "age         0\n",
       "carage      0\n",
       "exposure    0\n",
       "dtype: int64"
      ]
     },
     "execution_count": 203,
     "metadata": {},
     "output_type": "execute_result"
    }
   ],
   "source": [
    "#checking for nulls\n",
    "df.isnull().sum()"
   ]
  },
  {
   "cell_type": "code",
   "execution_count": 204,
   "id": "542f3d2b",
   "metadata": {},
   "outputs": [
    {
     "data": {
      "text/plain": [
       "False"
      ]
     },
     "execution_count": 204,
     "metadata": {},
     "output_type": "execute_result"
    }
   ],
   "source": [
    "#checking for duplicate rows\n",
    "any(df.duplicated())"
   ]
  },
  {
   "cell_type": "code",
   "execution_count": 205,
   "id": "22282716",
   "metadata": {},
   "outputs": [
    {
     "data": {
      "text/plain": [
       "Counts           4\n",
       "gender           2\n",
       "distance        95\n",
       "weight        3523\n",
       "age             81\n",
       "carage          45\n",
       "exposure    610100\n",
       "dtype: int64"
      ]
     },
     "execution_count": 205,
     "metadata": {},
     "output_type": "execute_result"
    }
   ],
   "source": [
    "#inspect number of Unique values in each column\n",
    "df.nunique()"
   ]
  },
  {
   "cell_type": "code",
   "execution_count": 206,
   "id": "77bbaa73",
   "metadata": {},
   "outputs": [
    {
     "data": {
      "text/plain": [
       "array([[<AxesSubplot:title={'center':'Counts'}>,\n",
       "        <AxesSubplot:title={'center':'distance'}>],\n",
       "       [<AxesSubplot:title={'center':'weight'}>,\n",
       "        <AxesSubplot:title={'center':'age'}>],\n",
       "       [<AxesSubplot:title={'center':'carage'}>,\n",
       "        <AxesSubplot:title={'center':'exposure'}>]], dtype=object)"
      ]
     },
     "execution_count": 206,
     "metadata": {},
     "output_type": "execute_result"
    },
    {
     "data": {
      "image/png": "[encoded data removed]",
      "text/plain": [
       "<Figure size 432x288 with 6 Axes>"
      ]
     },
     "metadata": {},
     "output_type": "display_data"
    }
   ],
   "source": [
    "#check distribution of each column\n",
    "df.hist()"
   ]
  },
  {
   "cell_type": "markdown",
   "id": "2144745b",
   "metadata": {},
   "source": [
    "From visual inspection, exposure seems to be uniformly distributed while others seem to have a Poisson's distribution with age and weight having relatively higher lambdas."
   ]
  },
  {
   "cell_type": "markdown",
   "id": "39acd4a2",
   "metadata": {},
   "source": [
    "## Feature Engineering"
   ]
  },
  {
   "cell_type": "code",
   "execution_count": 207,
   "id": "269b4cad",
   "metadata": {},
   "outputs": [],
   "source": [
    "#create quadratic features\n",
    "df['dist2']=df['distance']*df['distance']\n",
    "df['wt2']=df['weight']*df['weight']\n",
    "df['age2']=df['age']*df['age']\n",
    "df['cage2']=df['carage']*df['carage']"
   ]
  },
  {
   "cell_type": "code",
   "execution_count": 208,
   "id": "3394ecf4",
   "metadata": {},
   "outputs": [],
   "source": [
    "#create interaction features\n",
    "df['dist_wt']=df['distance']*df['weight']\n",
    "df['dist_age']=df['distance']*df['age']\n",
    "df['dist_cage']=df['distance']*df['carage']\n",
    "df['wt_age']=df['weight']*df['age']\n",
    "df['wt_cage']=df['weight']*df['carage']\n",
    "df['age_cage']=df['age']*df['carage']"
   ]
  },
  {
   "cell_type": "code",
   "execution_count": 209,
   "id": "319c7855",
   "metadata": {},
   "outputs": [],
   "source": [
    "#create target variable - Claim Frequency\n",
    "df['cfreq']=df['Counts']/df['exposure']"
   ]
  },
  {
   "cell_type": "code",
   "execution_count": 210,
   "id": "0d741b9a",
   "metadata": {},
   "outputs": [],
   "source": [
    "#manually encoding the categorical feature - gender\n",
    "df['gender']=df['gender'].replace('female',0).replace('male',1)"
   ]
  },
  {
   "cell_type": "code",
   "execution_count": 211,
   "id": "0956ae1d",
   "metadata": {},
   "outputs": [],
   "source": [
    "#split into features, target, weights, and counts\n",
    "X=df.drop(columns=['Counts','exposure','cfreq'])\n",
    "y=df['cfreq']\n",
    "weights=df['exposure']\n",
    "counts=df['Counts']"
   ]
  },
  {
   "cell_type": "code",
   "execution_count": 244,
   "id": "9b65e0f7",
   "metadata": {},
   "outputs": [
    {
     "data": {
      "text/html": [
       "<div>\n",
       "<style scoped>\n",
       "    .dataframe tbody tr th:only-of-type {\n",
       "        vertical-align: middle;\n",
       "    }\n",
       "\n",
       "    .dataframe tbody tr th {\n",
       "        vertical-align: top;\n",
       "    }\n",
       "\n",
       "    .dataframe thead th {\n",
       "        text-align: right;\n",
       "    }\n",
       "</style>\n",
       "<table border=\"1\" class=\"dataframe\">\n",
       "  <thead>\n",
       "    <tr style=\"text-align: right;\">\n",
       "      <th></th>\n",
       "      <th>Counts</th>\n",
       "      <th>gender</th>\n",
       "      <th>distance</th>\n",
       "      <th>weight</th>\n",
       "      <th>age</th>\n",
       "      <th>carage</th>\n",
       "      <th>exposure</th>\n",
       "      <th>dist2</th>\n",
       "      <th>wt2</th>\n",
       "      <th>age2</th>\n",
       "      <th>cage2</th>\n",
       "      <th>dist_wt</th>\n",
       "      <th>dist_age</th>\n",
       "      <th>dist_cage</th>\n",
       "      <th>wt_age</th>\n",
       "      <th>wt_cage</th>\n",
       "      <th>age_cage</th>\n",
       "      <th>cfreq</th>\n",
       "    </tr>\n",
       "  </thead>\n",
       "  <tbody>\n",
       "    <tr>\n",
       "      <th>Counts</th>\n",
       "      <td>1.000000</td>\n",
       "      <td>-0.020664</td>\n",
       "      <td>0.014776</td>\n",
       "      <td>0.033139</td>\n",
       "      <td>-0.034445</td>\n",
       "      <td>0.040784</td>\n",
       "      <td>0.016357</td>\n",
       "      <td>0.015082</td>\n",
       "      <td>0.032918</td>\n",
       "      <td>-0.031048</td>\n",
       "      <td>0.038873</td>\n",
       "      <td>0.025287</td>\n",
       "      <td>0.001617</td>\n",
       "      <td>0.033300</td>\n",
       "      <td>0.004574</td>\n",
       "      <td>0.048638</td>\n",
       "      <td>0.022728</td>\n",
       "      <td>0.997806</td>\n",
       "    </tr>\n",
       "    <tr>\n",
       "      <th>gender</th>\n",
       "      <td>-0.020664</td>\n",
       "      <td>1.000000</td>\n",
       "      <td>0.001858</td>\n",
       "      <td>0.002369</td>\n",
       "      <td>0.000723</td>\n",
       "      <td>-0.000814</td>\n",
       "      <td>-0.002765</td>\n",
       "      <td>0.002020</td>\n",
       "      <td>0.002819</td>\n",
       "      <td>0.000287</td>\n",
       "      <td>-0.000559</td>\n",
       "      <td>0.002690</td>\n",
       "      <td>0.002019</td>\n",
       "      <td>0.000850</td>\n",
       "      <td>0.002113</td>\n",
       "      <td>0.000202</td>\n",
       "      <td>-0.000768</td>\n",
       "      <td>-0.020606</td>\n",
       "    </tr>\n",
       "    <tr>\n",
       "      <th>distance</th>\n",
       "      <td>0.014776</td>\n",
       "      <td>0.001858</td>\n",
       "      <td>1.000000</td>\n",
       "      <td>-0.001653</td>\n",
       "      <td>-0.002236</td>\n",
       "      <td>0.000049</td>\n",
       "      <td>-0.000844</td>\n",
       "      <td>0.933128</td>\n",
       "      <td>-0.001336</td>\n",
       "      <td>-0.002212</td>\n",
       "      <td>0.000494</td>\n",
       "      <td>0.837198</td>\n",
       "      <td>0.898842</td>\n",
       "      <td>0.618112</td>\n",
       "      <td>-0.002601</td>\n",
       "      <td>-0.000725</td>\n",
       "      <td>-0.000510</td>\n",
       "      <td>0.014901</td>\n",
       "    </tr>\n",
       "    <tr>\n",
       "      <th>weight</th>\n",
       "      <td>0.033139</td>\n",
       "      <td>0.002369</td>\n",
       "      <td>-0.001653</td>\n",
       "      <td>1.000000</td>\n",
       "      <td>-0.002112</td>\n",
       "      <td>0.001519</td>\n",
       "      <td>-0.000192</td>\n",
       "      <td>-0.001284</td>\n",
       "      <td>0.972857</td>\n",
       "      <td>-0.001710</td>\n",
       "      <td>0.001251</td>\n",
       "      <td>0.390838</td>\n",
       "      <td>-0.002185</td>\n",
       "      <td>-0.000263</td>\n",
       "      <td>0.772399</td>\n",
       "      <td>0.424411</td>\n",
       "      <td>0.000754</td>\n",
       "      <td>0.033090</td>\n",
       "    </tr>\n",
       "    <tr>\n",
       "      <th>age</th>\n",
       "      <td>-0.034445</td>\n",
       "      <td>0.000723</td>\n",
       "      <td>-0.002236</td>\n",
       "      <td>-0.002112</td>\n",
       "      <td>1.000000</td>\n",
       "      <td>0.000788</td>\n",
       "      <td>0.000767</td>\n",
       "      <td>-0.001813</td>\n",
       "      <td>-0.002377</td>\n",
       "      <td>0.982654</td>\n",
       "      <td>-0.000048</td>\n",
       "      <td>-0.002746</td>\n",
       "      <td>0.311693</td>\n",
       "      <td>-0.000559</td>\n",
       "      <td>0.576335</td>\n",
       "      <td>-0.000094</td>\n",
       "      <td>0.341928</td>\n",
       "      <td>-0.034478</td>\n",
       "    </tr>\n",
       "    <tr>\n",
       "      <th>carage</th>\n",
       "      <td>0.040784</td>\n",
       "      <td>-0.000814</td>\n",
       "      <td>0.000049</td>\n",
       "      <td>0.001519</td>\n",
       "      <td>0.000788</td>\n",
       "      <td>1.000000</td>\n",
       "      <td>0.002580</td>\n",
       "      <td>0.000438</td>\n",
       "      <td>0.001446</td>\n",
       "      <td>0.000869</td>\n",
       "      <td>0.940380</td>\n",
       "      <td>0.000570</td>\n",
       "      <td>0.000503</td>\n",
       "      <td>0.563371</td>\n",
       "      <td>0.001737</td>\n",
       "      <td>0.824697</td>\n",
       "      <td>0.890161</td>\n",
       "      <td>0.040546</td>\n",
       "    </tr>\n",
       "    <tr>\n",
       "      <th>exposure</th>\n",
       "      <td>0.016357</td>\n",
       "      <td>-0.002765</td>\n",
       "      <td>-0.000844</td>\n",
       "      <td>-0.000192</td>\n",
       "      <td>0.000767</td>\n",
       "      <td>0.002580</td>\n",
       "      <td>1.000000</td>\n",
       "      <td>-0.000951</td>\n",
       "      <td>-0.000640</td>\n",
       "      <td>0.000690</td>\n",
       "      <td>0.001382</td>\n",
       "      <td>-0.000646</td>\n",
       "      <td>0.000056</td>\n",
       "      <td>0.000827</td>\n",
       "      <td>0.000972</td>\n",
       "      <td>0.001416</td>\n",
       "      <td>0.001902</td>\n",
       "      <td>0.000539</td>\n",
       "    </tr>\n",
       "    <tr>\n",
       "      <th>dist2</th>\n",
       "      <td>0.015082</td>\n",
       "      <td>0.002020</td>\n",
       "      <td>0.933128</td>\n",
       "      <td>-0.001284</td>\n",
       "      <td>-0.001813</td>\n",
       "      <td>0.000438</td>\n",
       "      <td>-0.000951</td>\n",
       "      <td>1.000000</td>\n",
       "      <td>-0.001238</td>\n",
       "      <td>-0.001696</td>\n",
       "      <td>0.000577</td>\n",
       "      <td>0.781089</td>\n",
       "      <td>0.838869</td>\n",
       "      <td>0.576841</td>\n",
       "      <td>-0.002059</td>\n",
       "      <td>-0.000180</td>\n",
       "      <td>0.000141</td>\n",
       "      <td>0.015244</td>\n",
       "    </tr>\n",
       "    <tr>\n",
       "      <th>wt2</th>\n",
       "      <td>0.032918</td>\n",
       "      <td>0.002819</td>\n",
       "      <td>-0.001336</td>\n",
       "      <td>0.972857</td>\n",
       "      <td>-0.002377</td>\n",
       "      <td>0.001446</td>\n",
       "      <td>-0.000640</td>\n",
       "      <td>-0.001238</td>\n",
       "      <td>1.000000</td>\n",
       "      <td>-0.001948</td>\n",
       "      <td>0.001160</td>\n",
       "      <td>0.380414</td>\n",
       "      <td>-0.001960</td>\n",
       "      <td>-0.000064</td>\n",
       "      <td>0.750947</td>\n",
       "      <td>0.413405</td>\n",
       "      <td>0.000567</td>\n",
       "      <td>0.032922</td>\n",
       "    </tr>\n",
       "    <tr>\n",
       "      <th>age2</th>\n",
       "      <td>-0.031048</td>\n",
       "      <td>0.000287</td>\n",
       "      <td>-0.002212</td>\n",
       "      <td>-0.001710</td>\n",
       "      <td>0.982654</td>\n",
       "      <td>0.000869</td>\n",
       "      <td>0.000690</td>\n",
       "      <td>-0.001696</td>\n",
       "      <td>-0.001948</td>\n",
       "      <td>1.000000</td>\n",
       "      <td>-0.000091</td>\n",
       "      <td>-0.002523</td>\n",
       "      <td>0.306149</td>\n",
       "      <td>-0.000361</td>\n",
       "      <td>0.566547</td>\n",
       "      <td>0.000101</td>\n",
       "      <td>0.336132</td>\n",
       "      <td>-0.031090</td>\n",
       "    </tr>\n",
       "    <tr>\n",
       "      <th>cage2</th>\n",
       "      <td>0.038873</td>\n",
       "      <td>-0.000559</td>\n",
       "      <td>0.000494</td>\n",
       "      <td>0.001251</td>\n",
       "      <td>-0.000048</td>\n",
       "      <td>0.940380</td>\n",
       "      <td>0.001382</td>\n",
       "      <td>0.000577</td>\n",
       "      <td>0.001160</td>\n",
       "      <td>-0.000091</td>\n",
       "      <td>1.000000</td>\n",
       "      <td>0.000757</td>\n",
       "      <td>0.000608</td>\n",
       "      <td>0.530488</td>\n",
       "      <td>0.001063</td>\n",
       "      <td>0.775513</td>\n",
       "      <td>0.836651</td>\n",
       "      <td>0.038657</td>\n",
       "    </tr>\n",
       "    <tr>\n",
       "      <th>dist_wt</th>\n",
       "      <td>0.025287</td>\n",
       "      <td>0.002690</td>\n",
       "      <td>0.837198</td>\n",
       "      <td>0.390838</td>\n",
       "      <td>-0.002746</td>\n",
       "      <td>0.000570</td>\n",
       "      <td>-0.000646</td>\n",
       "      <td>0.781089</td>\n",
       "      <td>0.380414</td>\n",
       "      <td>-0.002523</td>\n",
       "      <td>0.000757</td>\n",
       "      <td>1.000000</td>\n",
       "      <td>0.751966</td>\n",
       "      <td>0.518142</td>\n",
       "      <td>0.300551</td>\n",
       "      <td>0.165843</td>\n",
       "      <td>-0.000320</td>\n",
       "      <td>0.025407</td>\n",
       "    </tr>\n",
       "    <tr>\n",
       "      <th>dist_age</th>\n",
       "      <td>0.001617</td>\n",
       "      <td>0.002019</td>\n",
       "      <td>0.898842</td>\n",
       "      <td>-0.002185</td>\n",
       "      <td>0.311693</td>\n",
       "      <td>0.000503</td>\n",
       "      <td>0.000056</td>\n",
       "      <td>0.838869</td>\n",
       "      <td>-0.001960</td>\n",
       "      <td>0.306149</td>\n",
       "      <td>0.000608</td>\n",
       "      <td>0.751966</td>\n",
       "      <td>1.000000</td>\n",
       "      <td>0.556734</td>\n",
       "      <td>0.178353</td>\n",
       "      <td>-0.000635</td>\n",
       "      <td>0.107190</td>\n",
       "      <td>0.001716</td>\n",
       "    </tr>\n",
       "    <tr>\n",
       "      <th>dist_cage</th>\n",
       "      <td>0.033300</td>\n",
       "      <td>0.000850</td>\n",
       "      <td>0.618112</td>\n",
       "      <td>-0.000263</td>\n",
       "      <td>-0.000559</td>\n",
       "      <td>0.563371</td>\n",
       "      <td>0.000827</td>\n",
       "      <td>0.576841</td>\n",
       "      <td>-0.000064</td>\n",
       "      <td>-0.000361</td>\n",
       "      <td>0.530488</td>\n",
       "      <td>0.518142</td>\n",
       "      <td>0.556734</td>\n",
       "      <td>1.000000</td>\n",
       "      <td>-0.000627</td>\n",
       "      <td>0.463487</td>\n",
       "      <td>0.501078</td>\n",
       "      <td>0.033367</td>\n",
       "    </tr>\n",
       "    <tr>\n",
       "      <th>wt_age</th>\n",
       "      <td>0.004574</td>\n",
       "      <td>0.002113</td>\n",
       "      <td>-0.002601</td>\n",
       "      <td>0.772399</td>\n",
       "      <td>0.576335</td>\n",
       "      <td>0.001737</td>\n",
       "      <td>0.000972</td>\n",
       "      <td>-0.002059</td>\n",
       "      <td>0.750947</td>\n",
       "      <td>0.566547</td>\n",
       "      <td>0.001063</td>\n",
       "      <td>0.300551</td>\n",
       "      <td>0.178353</td>\n",
       "      <td>-0.000627</td>\n",
       "      <td>1.000000</td>\n",
       "      <td>0.328433</td>\n",
       "      <td>0.198386</td>\n",
       "      <td>0.004475</td>\n",
       "    </tr>\n",
       "    <tr>\n",
       "      <th>wt_cage</th>\n",
       "      <td>0.048638</td>\n",
       "      <td>0.000202</td>\n",
       "      <td>-0.000725</td>\n",
       "      <td>0.424411</td>\n",
       "      <td>-0.000094</td>\n",
       "      <td>0.824697</td>\n",
       "      <td>0.001416</td>\n",
       "      <td>-0.000180</td>\n",
       "      <td>0.413405</td>\n",
       "      <td>0.000101</td>\n",
       "      <td>0.775513</td>\n",
       "      <td>0.165843</td>\n",
       "      <td>-0.000635</td>\n",
       "      <td>0.463487</td>\n",
       "      <td>0.328433</td>\n",
       "      <td>1.000000</td>\n",
       "      <td>0.733801</td>\n",
       "      <td>0.048410</td>\n",
       "    </tr>\n",
       "    <tr>\n",
       "      <th>age_cage</th>\n",
       "      <td>0.022728</td>\n",
       "      <td>-0.000768</td>\n",
       "      <td>-0.000510</td>\n",
       "      <td>0.000754</td>\n",
       "      <td>0.341928</td>\n",
       "      <td>0.890161</td>\n",
       "      <td>0.001902</td>\n",
       "      <td>0.000141</td>\n",
       "      <td>0.000567</td>\n",
       "      <td>0.336132</td>\n",
       "      <td>0.836651</td>\n",
       "      <td>-0.000320</td>\n",
       "      <td>0.107190</td>\n",
       "      <td>0.501078</td>\n",
       "      <td>0.198386</td>\n",
       "      <td>0.733801</td>\n",
       "      <td>1.000000</td>\n",
       "      <td>0.022556</td>\n",
       "    </tr>\n",
       "    <tr>\n",
       "      <th>cfreq</th>\n",
       "      <td>0.997806</td>\n",
       "      <td>-0.020606</td>\n",
       "      <td>0.014901</td>\n",
       "      <td>0.033090</td>\n",
       "      <td>-0.034478</td>\n",
       "      <td>0.040546</td>\n",
       "      <td>0.000539</td>\n",
       "      <td>0.015244</td>\n",
       "      <td>0.032922</td>\n",
       "      <td>-0.031090</td>\n",
       "      <td>0.038657</td>\n",
       "      <td>0.025407</td>\n",
       "      <td>0.001716</td>\n",
       "      <td>0.033367</td>\n",
       "      <td>0.004475</td>\n",
       "      <td>0.048410</td>\n",
       "      <td>0.022556</td>\n",
       "      <td>1.000000</td>\n",
       "    </tr>\n",
       "  </tbody>\n",
       "</table>\n",
       "</div>"
      ],
      "text/plain": [
       "             Counts    gender  distance    weight       age    carage  \\\n",
       "Counts     1.000000 -0.020664  0.014776  0.033139 -0.034445  0.040784   \n",
       "gender    -0.020664  1.000000  0.001858  0.002369  0.000723 -0.000814   \n",
       "distance   0.014776  0.001858  1.000000 -0.001653 -0.002236  0.000049   \n",
       "weight     0.033139  0.002369 -0.001653  1.000000 -0.002112  0.001519   \n",
       "age       -0.034445  0.000723 -0.002236 -0.002112  1.000000  0.000788   \n",
       "carage     0.040784 -0.000814  0.000049  0.001519  0.000788  1.000000   \n",
       "exposure   0.016357 -0.002765 -0.000844 -0.000192  0.000767  0.002580   \n",
       "dist2      0.015082  0.002020  0.933128 -0.001284 -0.001813  0.000438   \n",
       "wt2        0.032918  0.002819 -0.001336  0.972857 -0.002377  0.001446   \n",
       "age2      -0.031048  0.000287 -0.002212 -0.001710  0.982654  0.000869   \n",
       "cage2      0.038873 -0.000559  0.000494  0.001251 -0.000048  0.940380   \n",
       "dist_wt    0.025287  0.002690  0.837198  0.390838 -0.002746  0.000570   \n",
       "dist_age   0.001617  0.002019  0.898842 -0.002185  0.311693  0.000503   \n",
       "dist_cage  0.033300  0.000850  0.618112 -0.000263 -0.000559  0.563371   \n",
       "wt_age     0.004574  0.002113 -0.002601  0.772399  0.576335  0.001737   \n",
       "wt_cage    0.048638  0.000202 -0.000725  0.424411 -0.000094  0.824697   \n",
       "age_cage   0.022728 -0.000768 -0.000510  0.000754  0.341928  0.890161   \n",
       "cfreq      0.997806 -0.020606  0.014901  0.033090 -0.034478  0.040546   \n",
       "\n",
       "           exposure     dist2       wt2      age2     cage2   dist_wt  \\\n",
       "Counts     0.016357  0.015082  0.032918 -0.031048  0.038873  0.025287   \n",
       "gender    -0.002765  0.002020  0.002819  0.000287 -0.000559  0.002690   \n",
       "distance  -0.000844  0.933128 -0.001336 -0.002212  0.000494  0.837198   \n",
       "weight    -0.000192 -0.001284  0.972857 -0.001710  0.001251  0.390838   \n",
       "age        0.000767 -0.001813 -0.002377  0.982654 -0.000048 -0.002746   \n",
       "carage     0.002580  0.000438  0.001446  0.000869  0.940380  0.000570   \n",
       "exposure   1.000000 -0.000951 -0.000640  0.000690  0.001382 -0.000646   \n",
       "dist2     -0.000951  1.000000 -0.001238 -0.001696  0.000577  0.781089   \n",
       "wt2       -0.000640 -0.001238  1.000000 -0.001948  0.001160  0.380414   \n",
       "age2       0.000690 -0.001696 -0.001948  1.000000 -0.000091 -0.002523   \n",
       "cage2      0.001382  0.000577  0.001160 -0.000091  1.000000  0.000757   \n",
       "dist_wt   -0.000646  0.781089  0.380414 -0.002523  0.000757  1.000000   \n",
       "dist_age   0.000056  0.838869 -0.001960  0.306149  0.000608  0.751966   \n",
       "dist_cage  0.000827  0.576841 -0.000064 -0.000361  0.530488  0.518142   \n",
       "wt_age     0.000972 -0.002059  0.750947  0.566547  0.001063  0.300551   \n",
       "wt_cage    0.001416 -0.000180  0.413405  0.000101  0.775513  0.165843   \n",
       "age_cage   0.001902  0.000141  0.000567  0.336132  0.836651 -0.000320   \n",
       "cfreq      0.000539  0.015244  0.032922 -0.031090  0.038657  0.025407   \n",
       "\n",
       "           dist_age  dist_cage    wt_age   wt_cage  age_cage     cfreq  \n",
       "Counts     0.001617   0.033300  0.004574  0.048638  0.022728  0.997806  \n",
       "gender     0.002019   0.000850  0.002113  0.000202 -0.000768 -0.020606  \n",
       "distance   0.898842   0.618112 -0.002601 -0.000725 -0.000510  0.014901  \n",
       "weight    -0.002185  -0.000263  0.772399  0.424411  0.000754  0.033090  \n",
       "age        0.311693  -0.000559  0.576335 -0.000094  0.341928 -0.034478  \n",
       "carage     0.000503   0.563371  0.001737  0.824697  0.890161  0.040546  \n",
       "exposure   0.000056   0.000827  0.000972  0.001416  0.001902  0.000539  \n",
       "dist2      0.838869   0.576841 -0.002059 -0.000180  0.000141  0.015244  \n",
       "wt2       -0.001960  -0.000064  0.750947  0.413405  0.000567  0.032922  \n",
       "age2       0.306149  -0.000361  0.566547  0.000101  0.336132 -0.031090  \n",
       "cage2      0.000608   0.530488  0.001063  0.775513  0.836651  0.038657  \n",
       "dist_wt    0.751966   0.518142  0.300551  0.165843 -0.000320  0.025407  \n",
       "dist_age   1.000000   0.556734  0.178353 -0.000635  0.107190  0.001716  \n",
       "dist_cage  0.556734   1.000000 -0.000627  0.463487  0.501078  0.033367  \n",
       "wt_age     0.178353  -0.000627  1.000000  0.328433  0.198386  0.004475  \n",
       "wt_cage   -0.000635   0.463487  0.328433  1.000000  0.733801  0.048410  \n",
       "age_cage   0.107190   0.501078  0.198386  0.733801  1.000000  0.022556  \n",
       "cfreq      0.001716   0.033367  0.004475  0.048410  0.022556  1.000000  "
      ]
     },
     "execution_count": 244,
     "metadata": {},
     "output_type": "execute_result"
    }
   ],
   "source": [
    "#inspect the correlation matrix\n",
    "corr = df.corr()\n",
    "corr"
   ]
  },
  {
   "cell_type": "code",
   "execution_count": 245,
   "id": "84d4063d",
   "metadata": {
    "scrolled": false
   },
   "outputs": [
    {
     "data": {
      "image/png": "[encoded data removed]",
      "text/plain": [
       "<Figure size 792x792 with 2 Axes>"
      ]
     },
     "metadata": {},
     "output_type": "display_data"
    }
   ],
   "source": [
    "#plot heatmat of correlation matrix for visual inspection\n",
    "fig, ax = plt.subplots()\n",
    "fig.set_size_inches(11,11)\n",
    "\n",
    "sns.heatmap(corr, \n",
    "    vmin=-1, vmax=1, center=0,\n",
    "    cmap=sns.diverging_palette(20, 220, n=200),\n",
    "    square=True)\n",
    "plt.show()"
   ]
  },
  {
   "cell_type": "code",
   "execution_count": 246,
   "id": "5d9b16ec",
   "metadata": {
    "scrolled": false
   },
   "outputs": [
    {
     "data": {
      "text/plain": [
       "Counts       0.997806\n",
       "gender      -0.020606\n",
       "distance     0.014901\n",
       "weight       0.033090\n",
       "age         -0.034478\n",
       "carage       0.040546\n",
       "exposure     0.000539\n",
       "dist2        0.015244\n",
       "wt2          0.032922\n",
       "age2        -0.031090\n",
       "cage2        0.038657\n",
       "dist_wt      0.025407\n",
       "dist_age     0.001716\n",
       "dist_cage    0.033367\n",
       "wt_age       0.004475\n",
       "wt_cage      0.048410\n",
       "age_cage     0.022556\n",
       "cfreq        1.000000\n",
       "Name: cfreq, dtype: float64"
      ]
     },
     "execution_count": 246,
     "metadata": {},
     "output_type": "execute_result"
    }
   ],
   "source": [
    "#inspecting correlations of all features (and count and exposure) with the target (cf)\n",
    "df.corr()['cfreq']"
   ]
  },
  {
   "cell_type": "markdown",
   "id": "8d4a9c06",
   "metadata": {},
   "source": [
    "The correlations between the features and target variables are pretty weak. Therefore, testing any Hypotheses wouldn't be very helpful since any relationship, even if found to be statistically significant, would have a small effect size."
   ]
  },
  {
   "cell_type": "code",
   "execution_count": 247,
   "id": "2ca66b39",
   "metadata": {},
   "outputs": [
    {
     "data": {
      "text/html": [
       "<div>\n",
       "<style scoped>\n",
       "    .dataframe tbody tr th:only-of-type {\n",
       "        vertical-align: middle;\n",
       "    }\n",
       "\n",
       "    .dataframe tbody tr th {\n",
       "        vertical-align: top;\n",
       "    }\n",
       "\n",
       "    .dataframe thead th {\n",
       "        text-align: right;\n",
       "    }\n",
       "</style>\n",
       "<table border=\"1\" class=\"dataframe\">\n",
       "  <thead>\n",
       "    <tr style=\"text-align: right;\">\n",
       "      <th></th>\n",
       "      <th>feature1</th>\n",
       "      <th>feature2</th>\n",
       "      <th>corr</th>\n",
       "    </tr>\n",
       "  </thead>\n",
       "  <tbody>\n",
       "    <tr>\n",
       "      <th>0</th>\n",
       "      <td>age2</td>\n",
       "      <td>age</td>\n",
       "      <td>0.982654</td>\n",
       "    </tr>\n",
       "    <tr>\n",
       "      <th>1</th>\n",
       "      <td>age</td>\n",
       "      <td>age2</td>\n",
       "      <td>0.982654</td>\n",
       "    </tr>\n",
       "    <tr>\n",
       "      <th>2</th>\n",
       "      <td>weight</td>\n",
       "      <td>wt2</td>\n",
       "      <td>0.972857</td>\n",
       "    </tr>\n",
       "    <tr>\n",
       "      <th>3</th>\n",
       "      <td>wt2</td>\n",
       "      <td>weight</td>\n",
       "      <td>0.972857</td>\n",
       "    </tr>\n",
       "    <tr>\n",
       "      <th>4</th>\n",
       "      <td>carage</td>\n",
       "      <td>cage2</td>\n",
       "      <td>0.940380</td>\n",
       "    </tr>\n",
       "    <tr>\n",
       "      <th>5</th>\n",
       "      <td>cage2</td>\n",
       "      <td>carage</td>\n",
       "      <td>0.940380</td>\n",
       "    </tr>\n",
       "    <tr>\n",
       "      <th>6</th>\n",
       "      <td>dist2</td>\n",
       "      <td>distance</td>\n",
       "      <td>0.933128</td>\n",
       "    </tr>\n",
       "    <tr>\n",
       "      <th>7</th>\n",
       "      <td>distance</td>\n",
       "      <td>dist2</td>\n",
       "      <td>0.933128</td>\n",
       "    </tr>\n",
       "    <tr>\n",
       "      <th>8</th>\n",
       "      <td>distance</td>\n",
       "      <td>dist_age</td>\n",
       "      <td>0.898842</td>\n",
       "    </tr>\n",
       "    <tr>\n",
       "      <th>9</th>\n",
       "      <td>dist_age</td>\n",
       "      <td>distance</td>\n",
       "      <td>0.898842</td>\n",
       "    </tr>\n",
       "    <tr>\n",
       "      <th>10</th>\n",
       "      <td>carage</td>\n",
       "      <td>age_cage</td>\n",
       "      <td>0.890161</td>\n",
       "    </tr>\n",
       "    <tr>\n",
       "      <th>11</th>\n",
       "      <td>age_cage</td>\n",
       "      <td>carage</td>\n",
       "      <td>0.890161</td>\n",
       "    </tr>\n",
       "    <tr>\n",
       "      <th>12</th>\n",
       "      <td>dist_age</td>\n",
       "      <td>dist2</td>\n",
       "      <td>0.838869</td>\n",
       "    </tr>\n",
       "    <tr>\n",
       "      <th>13</th>\n",
       "      <td>dist2</td>\n",
       "      <td>dist_age</td>\n",
       "      <td>0.838869</td>\n",
       "    </tr>\n",
       "    <tr>\n",
       "      <th>14</th>\n",
       "      <td>dist_wt</td>\n",
       "      <td>distance</td>\n",
       "      <td>0.837198</td>\n",
       "    </tr>\n",
       "    <tr>\n",
       "      <th>15</th>\n",
       "      <td>distance</td>\n",
       "      <td>dist_wt</td>\n",
       "      <td>0.837198</td>\n",
       "    </tr>\n",
       "    <tr>\n",
       "      <th>16</th>\n",
       "      <td>cage2</td>\n",
       "      <td>age_cage</td>\n",
       "      <td>0.836651</td>\n",
       "    </tr>\n",
       "    <tr>\n",
       "      <th>17</th>\n",
       "      <td>age_cage</td>\n",
       "      <td>cage2</td>\n",
       "      <td>0.836651</td>\n",
       "    </tr>\n",
       "    <tr>\n",
       "      <th>18</th>\n",
       "      <td>carage</td>\n",
       "      <td>wt_cage</td>\n",
       "      <td>0.824697</td>\n",
       "    </tr>\n",
       "    <tr>\n",
       "      <th>19</th>\n",
       "      <td>wt_cage</td>\n",
       "      <td>carage</td>\n",
       "      <td>0.824697</td>\n",
       "    </tr>\n",
       "  </tbody>\n",
       "</table>\n",
       "</div>"
      ],
      "text/plain": [
       "    feature1  feature2      corr\n",
       "0       age2       age  0.982654\n",
       "1        age      age2  0.982654\n",
       "2     weight       wt2  0.972857\n",
       "3        wt2    weight  0.972857\n",
       "4     carage     cage2  0.940380\n",
       "5      cage2    carage  0.940380\n",
       "6      dist2  distance  0.933128\n",
       "7   distance     dist2  0.933128\n",
       "8   distance  dist_age  0.898842\n",
       "9   dist_age  distance  0.898842\n",
       "10    carage  age_cage  0.890161\n",
       "11  age_cage    carage  0.890161\n",
       "12  dist_age     dist2  0.838869\n",
       "13     dist2  dist_age  0.838869\n",
       "14   dist_wt  distance  0.837198\n",
       "15  distance   dist_wt  0.837198\n",
       "16     cage2  age_cage  0.836651\n",
       "17  age_cage     cage2  0.836651\n",
       "18    carage   wt_cage  0.824697\n",
       "19   wt_cage    carage  0.824697"
      ]
     },
     "execution_count": 247,
     "metadata": {},
     "output_type": "execute_result"
    }
   ],
   "source": [
    "#identifying pairs of highly correlated features for demonstration\n",
    "corrmat = X.corr()\n",
    "corrmat = corrmat.abs().unstack() # absolute value of corr coef\n",
    "corrmat = corrmat.sort_values(ascending=False)\n",
    "corrmat = corrmat[corrmat >= 0.8]\n",
    "corrmat = corrmat[corrmat < 1]\n",
    "corrmat = pd.DataFrame(corrmat).reset_index()\n",
    "corrmat.columns = ['feature1', 'feature2', 'corr']\n",
    "corrmat"
   ]
  },
  {
   "cell_type": "markdown",
   "id": "04065a6e",
   "metadata": {},
   "source": [
    "**We will bypass feature selection and retain all the features because:**\n",
    "1. Decision Trees are by nature immune to multicollinearity and will select the important features.\n",
    "2. We are interested in predictions, not in causality.\n",
    "3. Our model contains relatively small number of features anyway (ie. narrow dataset). So reducing processing time is not a priority."
   ]
  },
  {
   "cell_type": "markdown",
   "id": "755a80c7",
   "metadata": {},
   "source": [
    "However, if we wanted to reduce processing time, we could use an ensemble tree method (RandomForest) to get feature_importances_ and exclude the features with importances below a certain threshold. \n",
    "\n",
    "I will add the code for this process below **merely for demonstration.**"
   ]
  },
  {
   "cell_type": "markdown",
   "id": "448718bb",
   "metadata": {},
   "source": [
    "from sklearn.ensemble import RandomForestRegressor\n",
    "feat_sel_model = RandomForestRegressor(criterion='poisson',n_estimators=10, random_state=10)"
   ]
  },
  {
   "cell_type": "markdown",
   "id": "6b834026",
   "metadata": {},
   "source": [
    "feat_sel_model.fit(X,y, sample_weight=weights)"
   ]
  },
  {
   "cell_type": "markdown",
   "id": "e0d5fa00",
   "metadata": {},
   "source": [
    "feat_sel_model.feature_importances_"
   ]
  },
  {
   "cell_type": "markdown",
   "id": "99148943",
   "metadata": {},
   "source": [
    "importances=pd.DataFrame(X.columns)\n",
    "importances['importances']= feat_sel_model.feature_importances_\n",
    "importances"
   ]
  },
  {
   "cell_type": "markdown",
   "id": "4ab774b5",
   "metadata": {},
   "source": [
    "selected_features=importances[importances['importances']>feat_sel_model.feature_importances_.mean()]\n",
    "selected_features"
   ]
  },
  {
   "cell_type": "markdown",
   "id": "59a94860",
   "metadata": {},
   "source": [
    "selected_features gives the features which have importance scores higher than the mean importance score. One could choose to keep these features and drop the rest for an aggressively fast model."
   ]
  },
  {
   "cell_type": "markdown",
   "id": "7ff1a979",
   "metadata": {},
   "source": [
    "## Modelling"
   ]
  },
  {
   "cell_type": "markdown",
   "id": "1ffc1614",
   "metadata": {},
   "source": [
    "We will try 3 models (Decision Tree and two Gradient Boosted Models). We will use GridSearchCV to get the best hyperparameters compared through 10-fold Cross Validation.\n",
    "\n",
    "**In other words, we will use 10-fold Cross Validation to find the best version of each model and then test the model on the test data in a single fold.**"
   ]
  },
  {
   "cell_type": "markdown",
   "id": "af979d07",
   "metadata": {},
   "source": [
    "### Split data into test, train and weights"
   ]
  },
  {
   "cell_type": "code",
   "execution_count": 256,
   "id": "6afdfa7b",
   "metadata": {},
   "outputs": [],
   "source": [
    "from sklearn.model_selection import train_test_split\n",
    "X_train, X_test, y_train, y_test, weights_train, weights_test = train_test_split(X, y, weights, test_size = 0.2, random_state = 1)"
   ]
  },
  {
   "cell_type": "markdown",
   "id": "6114e333",
   "metadata": {},
   "source": [
    "### Decision Tree Regressor"
   ]
  },
  {
   "cell_type": "code",
   "execution_count": 261,
   "id": "cc4eed2a",
   "metadata": {},
   "outputs": [],
   "source": [
    "from sklearn.tree import DecisionTreeRegressor\n",
    "from sklearn.model_selection import GridSearchCV \n",
    "from sklearn.metrics import make_scorer \n",
    "from sklearn.metrics import mean_absolute_error \n",
    "from sklearn.metrics import r2_score"
   ]
  },
  {
   "cell_type": "markdown",
   "id": "23bd2d5c",
   "metadata": {},
   "source": [
    "To manage the bias-variance trade-off (ie. to avoid overfitting and underfitting), we will try a few different tree sizes with 10-fold Cross Validation to find the best parameters"
   ]
  },
  {
   "cell_type": "code",
   "execution_count": 287,
   "id": "d8e7c5fd",
   "metadata": {},
   "outputs": [],
   "source": [
    "#parameters to try\n",
    "param_grid = {\"max_depth\": [2,3,5,8,10]}"
   ]
  },
  {
   "cell_type": "code",
   "execution_count": 288,
   "id": "62754593",
   "metadata": {},
   "outputs": [],
   "source": [
    "#create instance\n",
    "gcv_dec_tree = GridSearchCV(DecisionTreeRegressor(criterion='poisson',random_state=0),\n",
    "              param_grid, cv=10)"
   ]
  },
  {
   "cell_type": "code",
   "execution_count": 289,
   "id": "fd3e3701",
   "metadata": {},
   "outputs": [
    {
     "data": {
      "text/plain": [
       "GridSearchCV(cv=10,\n",
       "             estimator=DecisionTreeRegressor(criterion='poisson',\n",
       "                                             random_state=0),\n",
       "             param_grid={'max_depth': [2, 3, 5, 8, 10]})"
      ]
     },
     "execution_count": 289,
     "metadata": {},
     "output_type": "execute_result"
    }
   ],
   "source": [
    "#fit model to data\n",
    "gcv_dec_tree.fit(X_train, y_train, sample_weight=weights_train)"
   ]
  },
  {
   "cell_type": "code",
   "execution_count": 295,
   "id": "5a01811a",
   "metadata": {},
   "outputs": [
    {
     "data": {
      "text/plain": [
       "{'max_depth': 3}"
      ]
     },
     "execution_count": 295,
     "metadata": {},
     "output_type": "execute_result"
    }
   ],
   "source": [
    "#see the best parameters\n",
    "gcv_dec_tree.best_params_"
   ]
  },
  {
   "cell_type": "code",
   "execution_count": 299,
   "id": "dfa66062",
   "metadata": {},
   "outputs": [],
   "source": [
    "#predict test data\n",
    "dec_tree_pred=gcv_dec_tree.predict(X_test)"
   ]
  },
  {
   "cell_type": "code",
   "execution_count": 321,
   "id": "76db3abc",
   "metadata": {},
   "outputs": [
    {
     "name": "stdout",
     "output_type": "stream",
     "text": [
      "Decision Tree MSE: 0.07315265274227589\n",
      "Decision Tree RMSE: 0.2704674707654802\n"
     ]
    }
   ],
   "source": [
    "#check model performance on test data\n",
    "from sklearn.metrics import mean_squared_error\n",
    "import math\n",
    "\n",
    "dec_tree_mse = mean_squared_error(y_test, dec_tree_pred,sample_weight=weights_test)\n",
    "dec_tree_rmse = math.sqrt(dec_tree_mse)\n",
    "\n",
    "print(\"Decision Tree MSE:\", dec_tree_mse)\n",
    "print(\"Decision Tree RMSE:\", dec_tree_rmse)"
   ]
  },
  {
   "cell_type": "markdown",
   "id": "637b2052",
   "metadata": {},
   "source": [
    "### SkLearn's HistGradientBoostingRegressor"
   ]
  },
  {
   "cell_type": "code",
   "execution_count": 304,
   "id": "45edb3ea",
   "metadata": {},
   "outputs": [],
   "source": [
    "from sklearn.experimental import enable_hist_gradient_boosting\n",
    "from sklearn.ensemble import HistGradientBoostingRegressor"
   ]
  },
  {
   "cell_type": "code",
   "execution_count": 322,
   "id": "fe761a23",
   "metadata": {},
   "outputs": [],
   "source": [
    "#parameters to try\n",
    "param_grid2 = {\"max_depth\": [2,3,5],\n",
    "             \"learning_rate\": [0.1,0.2]}"
   ]
  },
  {
   "cell_type": "code",
   "execution_count": 310,
   "id": "4e0b70a3",
   "metadata": {},
   "outputs": [],
   "source": [
    "#create instance\n",
    "gcv_GBR = GridSearchCV(HistGradientBoostingRegressor(loss='poisson'), param_grid2, cv=10)"
   ]
  },
  {
   "cell_type": "code",
   "execution_count": 315,
   "id": "aae42e87",
   "metadata": {},
   "outputs": [
    {
     "data": {
      "text/plain": [
       "GridSearchCV(cv=10, estimator=HistGradientBoostingRegressor(loss='poisson'),\n",
       "             param_grid={'learning_rate': [0.1, 0.2, 0.3],\n",
       "                         'max_depth': [2, 3, 5, 8, 10]})"
      ]
     },
     "execution_count": 315,
     "metadata": {},
     "output_type": "execute_result"
    }
   ],
   "source": [
    "#fit model to data\n",
    "gcv_GBR.fit(X_train, y_train, sample_weight=weights_train)"
   ]
  },
  {
   "cell_type": "code",
   "execution_count": 316,
   "id": "c78fa831",
   "metadata": {},
   "outputs": [
    {
     "data": {
      "text/plain": [
       "{'learning_rate': 0.1, 'max_depth': 2}"
      ]
     },
     "execution_count": 316,
     "metadata": {},
     "output_type": "execute_result"
    }
   ],
   "source": [
    "#see the best parameters\n",
    "gcv_GBR.best_params_"
   ]
  },
  {
   "cell_type": "code",
   "execution_count": 318,
   "id": "ed93ea6e",
   "metadata": {},
   "outputs": [],
   "source": [
    "#predict test data\n",
    "GBR_pred=gcv_GBR.predict(X_test)"
   ]
  },
  {
   "cell_type": "code",
   "execution_count": 320,
   "id": "af0d7335",
   "metadata": {},
   "outputs": [
    {
     "name": "stdout",
     "output_type": "stream",
     "text": [
      "Gradient Boosting Regressor MSE: 0.0727673038305982\n",
      "Gradient Boosting Regressor RMSE: 0.26975415442694894\n"
     ]
    }
   ],
   "source": [
    "#check model performance on test data\n",
    "\n",
    "GBR_mse = mean_squared_error(y_test, GBR_pred, sample_weight=weights_test)\n",
    "GBR_rmse = math.sqrt(GBR_mse)\n",
    "\n",
    "print(\"Gradient Boosting Regressor MSE:\", GBR_mse)\n",
    "print(\"Gradient Boosting Regressor RMSE:\", GBR_rmse)"
   ]
  },
  {
   "cell_type": "markdown",
   "id": "5a56b857",
   "metadata": {},
   "source": [
    "The Gradient Boosting Regressor performs slightly better than the simple Decision Tree model."
   ]
  },
  {
   "cell_type": "markdown",
   "id": "b10e0610",
   "metadata": {},
   "source": [
    "### XGBoost's sklearn wrapper interface XGBRegressor"
   ]
  },
  {
   "cell_type": "code",
   "execution_count": 328,
   "id": "440cb901",
   "metadata": {},
   "outputs": [],
   "source": [
    "import xgboost as xgb"
   ]
  },
  {
   "cell_type": "code",
   "execution_count": 329,
   "id": "bd4e1074",
   "metadata": {},
   "outputs": [],
   "source": [
    "#parameters to try\n",
    "param_grid3={'n_estimators':[10,50,100] ,'max_depth':[2,3,5]}"
   ]
  },
  {
   "cell_type": "code",
   "execution_count": 330,
   "id": "6358208b",
   "metadata": {},
   "outputs": [],
   "source": [
    "#create instance\n",
    "gcv_xgb = GridSearchCV(xgb.XGBRegressor(objective= \"count:poisson\", learning_rate=0.1), param_grid3, cv=10)"
   ]
  },
  {
   "cell_type": "code",
   "execution_count": 331,
   "id": "7a5cc133",
   "metadata": {},
   "outputs": [
    {
     "data": {
      "text/plain": [
       "GridSearchCV(cv=10,\n",
       "             estimator=XGBRegressor(base_score=None, booster=None,\n",
       "                                    colsample_bylevel=None,\n",
       "                                    colsample_bynode=None,\n",
       "                                    colsample_bytree=None,\n",
       "                                    enable_categorical=False, gamma=None,\n",
       "                                    gpu_id=None, importance_type=None,\n",
       "                                    interaction_constraints=None,\n",
       "                                    learning_rate=0.1, max_delta_step=None,\n",
       "                                    max_depth=None, min_child_weight=None,\n",
       "                                    missing=nan, monotone_constraints=None,\n",
       "                                    n_estimators=100, n_jobs=None,\n",
       "                                    num_parallel_tree=None,\n",
       "                                    objective='count:poisson', predictor=None,\n",
       "                                    random_state=None, reg_alpha=None,\n",
       "                                    reg_lambda=None, scale_pos_weight=None,\n",
       "                                    subsample=None, tree_method=None,\n",
       "                                    validate_parameters=None, verbosity=None),\n",
       "             param_grid={'max_depth': [2, 3, 5], 'n_estimators': [10, 50, 100]})"
      ]
     },
     "execution_count": 331,
     "metadata": {},
     "output_type": "execute_result"
    }
   ],
   "source": [
    "#fit model to data\n",
    "gcv_xgb.fit(X_train, y_train, sample_weight=weights_train)"
   ]
  },
  {
   "cell_type": "code",
   "execution_count": 332,
   "id": "eb98d507",
   "metadata": {},
   "outputs": [
    {
     "data": {
      "text/plain": [
       "{'max_depth': 3, 'n_estimators': 100}"
      ]
     },
     "execution_count": 332,
     "metadata": {},
     "output_type": "execute_result"
    }
   ],
   "source": [
    "#see the best parameters\n",
    "gcv_xgb.best_params_"
   ]
  },
  {
   "cell_type": "code",
   "execution_count": 333,
   "id": "fd124b1e",
   "metadata": {},
   "outputs": [],
   "source": [
    "#predict test data\n",
    "xgb_pred=gcv_xgb.predict(X_test)"
   ]
  },
  {
   "cell_type": "code",
   "execution_count": 334,
   "id": "c0e83acb",
   "metadata": {},
   "outputs": [
    {
     "name": "stdout",
     "output_type": "stream",
     "text": [
      "XGBoost Regressor MSE: 0.07280785563727263\n",
      "XGBoost Regressor RMSE: 0.2698293083363492\n"
     ]
    }
   ],
   "source": [
    "#check model performance on test data\n",
    "\n",
    "xgb_mse = mean_squared_error(y_test, xgb_pred, sample_weight=weights_test)\n",
    "xgb_rmse = math.sqrt(xgb_mse)\n",
    "\n",
    "print(\"XGBoost Regressor MSE:\", xgb_mse)\n",
    "print(\"XGBoost Regressor RMSE:\", xgb_rmse)"
   ]
  },
  {
   "cell_type": "markdown",
   "id": "5fe90ceb",
   "metadata": {},
   "source": [
    "The XGBoost implementation of the Gradient Boosted Regressor performs similarly to sklearn's implementation."
   ]
  },
  {
   "cell_type": "markdown",
   "id": "cf1e0004",
   "metadata": {},
   "source": [
    "### Reasonableness Check"
   ]
  },
  {
   "cell_type": "markdown",
   "id": "fb15e00c",
   "metadata": {},
   "source": [
    "Check if the Sum of Counts of the test data is reasonably close to the Sum of Counts obtained from the Predicted Claim Frequency of the test data."
   ]
  },
  {
   "cell_type": "code",
   "execution_count": 342,
   "id": "1427a6cf",
   "metadata": {},
   "outputs": [
    {
     "data": {
      "text/plain": [
       "7237.0"
      ]
     },
     "execution_count": 342,
     "metadata": {},
     "output_type": "execute_result"
    }
   ],
   "source": [
    "#find the sum of Counts of the test data\n",
    "counts_test=y_test*weights_test\n",
    "counts_test.sum()"
   ]
  },
  {
   "cell_type": "code",
   "execution_count": 341,
   "id": "8e820fb7",
   "metadata": {},
   "outputs": [
    {
     "data": {
      "text/plain": [
       "7813.289965129051"
      ]
     },
     "execution_count": 341,
     "metadata": {},
     "output_type": "execute_result"
    }
   ],
   "source": [
    "#find the predicted sum of Counts of the test data\n",
    "counts_test_pred=xgb_pred*weights_test\n",
    "counts_test_pred.sum()"
   ]
  },
  {
   "cell_type": "markdown",
   "id": "7fb39938",
   "metadata": {},
   "source": [
    "### Feature Importances"
   ]
  },
  {
   "cell_type": "code",
   "execution_count": 345,
   "id": "a6246b2a",
   "metadata": {
    "scrolled": true
   },
   "outputs": [],
   "source": [
    "#create an instance of XGBRegressor Class with the best parameters found in the GridSearchCV above\n",
    "xgb = xgb.XGBRegressor(objective= \"count:poisson\", learning_rate=0.1, max_depth = 3, n_estimators=100)"
   ]
  },
  {
   "cell_type": "code",
   "execution_count": 347,
   "id": "e720dd6d",
   "metadata": {},
   "outputs": [
    {
     "data": {
      "text/plain": [
       "XGBRegressor(base_score=0.5, booster='gbtree', colsample_bylevel=1,\n",
       "             colsample_bynode=1, colsample_bytree=1, enable_categorical=False,\n",
       "             gamma=0, gpu_id=-1, importance_type=None,\n",
       "             interaction_constraints='', learning_rate=0.1,\n",
       "             max_delta_step=0.699999988, max_depth=3, min_child_weight=1,\n",
       "             missing=nan, monotone_constraints='()', n_estimators=100, n_jobs=8,\n",
       "             num_parallel_tree=1, objective='count:poisson', predictor='auto',\n",
       "             random_state=0, reg_alpha=0, reg_lambda=1, scale_pos_weight=None,\n",
       "             subsample=1, tree_method='exact', validate_parameters=1,\n",
       "             verbosity=None)"
      ]
     },
     "execution_count": 347,
     "metadata": {},
     "output_type": "execute_result"
    }
   ],
   "source": [
    "#fit model to data\n",
    "xgb.fit(X_train,y_train,sample_weight=weights_train)"
   ]
  },
  {
   "cell_type": "code",
   "execution_count": 350,
   "id": "93a82b0e",
   "metadata": {},
   "outputs": [
    {
     "data": {
      "text/html": [
       "<div>\n",
       "<style scoped>\n",
       "    .dataframe tbody tr th:only-of-type {\n",
       "        vertical-align: middle;\n",
       "    }\n",
       "\n",
       "    .dataframe tbody tr th {\n",
       "        vertical-align: top;\n",
       "    }\n",
       "\n",
       "    .dataframe thead th {\n",
       "        text-align: right;\n",
       "    }\n",
       "</style>\n",
       "<table border=\"1\" class=\"dataframe\">\n",
       "  <thead>\n",
       "    <tr style=\"text-align: right;\">\n",
       "      <th></th>\n",
       "      <th>0</th>\n",
       "      <th>importances</th>\n",
       "    </tr>\n",
       "  </thead>\n",
       "  <tbody>\n",
       "    <tr>\n",
       "      <th>0</th>\n",
       "      <td>gender</td>\n",
       "      <td>0.096303</td>\n",
       "    </tr>\n",
       "    <tr>\n",
       "      <th>1</th>\n",
       "      <td>distance</td>\n",
       "      <td>0.055645</td>\n",
       "    </tr>\n",
       "    <tr>\n",
       "      <th>2</th>\n",
       "      <td>weight</td>\n",
       "      <td>0.109485</td>\n",
       "    </tr>\n",
       "    <tr>\n",
       "      <th>3</th>\n",
       "      <td>age</td>\n",
       "      <td>0.157438</td>\n",
       "    </tr>\n",
       "    <tr>\n",
       "      <th>4</th>\n",
       "      <td>carage</td>\n",
       "      <td>0.074500</td>\n",
       "    </tr>\n",
       "    <tr>\n",
       "      <th>5</th>\n",
       "      <td>dist2</td>\n",
       "      <td>0.000000</td>\n",
       "    </tr>\n",
       "    <tr>\n",
       "      <th>6</th>\n",
       "      <td>wt2</td>\n",
       "      <td>0.000000</td>\n",
       "    </tr>\n",
       "    <tr>\n",
       "      <th>7</th>\n",
       "      <td>age2</td>\n",
       "      <td>0.000000</td>\n",
       "    </tr>\n",
       "    <tr>\n",
       "      <th>8</th>\n",
       "      <td>cage2</td>\n",
       "      <td>0.000000</td>\n",
       "    </tr>\n",
       "    <tr>\n",
       "      <th>9</th>\n",
       "      <td>dist_wt</td>\n",
       "      <td>0.086788</td>\n",
       "    </tr>\n",
       "    <tr>\n",
       "      <th>10</th>\n",
       "      <td>dist_age</td>\n",
       "      <td>0.035495</td>\n",
       "    </tr>\n",
       "    <tr>\n",
       "      <th>11</th>\n",
       "      <td>dist_cage</td>\n",
       "      <td>0.088310</td>\n",
       "    </tr>\n",
       "    <tr>\n",
       "      <th>12</th>\n",
       "      <td>wt_age</td>\n",
       "      <td>0.043823</td>\n",
       "    </tr>\n",
       "    <tr>\n",
       "      <th>13</th>\n",
       "      <td>wt_cage</td>\n",
       "      <td>0.211726</td>\n",
       "    </tr>\n",
       "    <tr>\n",
       "      <th>14</th>\n",
       "      <td>age_cage</td>\n",
       "      <td>0.040488</td>\n",
       "    </tr>\n",
       "  </tbody>\n",
       "</table>\n",
       "</div>"
      ],
      "text/plain": [
       "            0  importances\n",
       "0      gender     0.096303\n",
       "1    distance     0.055645\n",
       "2      weight     0.109485\n",
       "3         age     0.157438\n",
       "4      carage     0.074500\n",
       "5       dist2     0.000000\n",
       "6         wt2     0.000000\n",
       "7        age2     0.000000\n",
       "8       cage2     0.000000\n",
       "9     dist_wt     0.086788\n",
       "10   dist_age     0.035495\n",
       "11  dist_cage     0.088310\n",
       "12     wt_age     0.043823\n",
       "13    wt_cage     0.211726\n",
       "14   age_cage     0.040488"
      ]
     },
     "execution_count": 350,
     "metadata": {},
     "output_type": "execute_result"
    }
   ],
   "source": [
    "#create a dataframe with the feature importances\n",
    "feat_imp=pd.DataFrame(X.columns)\n",
    "feat_imp['importances']= xgb.feature_importances_\n",
    "feat_imp"
   ]
  },
  {
   "cell_type": "code",
   "execution_count": 352,
   "id": "bb9eb118",
   "metadata": {
    "scrolled": false
   },
   "outputs": [
    {
     "data": {
      "text/html": [
       "<div>\n",
       "<style scoped>\n",
       "    .dataframe tbody tr th:only-of-type {\n",
       "        vertical-align: middle;\n",
       "    }\n",
       "\n",
       "    .dataframe tbody tr th {\n",
       "        vertical-align: top;\n",
       "    }\n",
       "\n",
       "    .dataframe thead th {\n",
       "        text-align: right;\n",
       "    }\n",
       "</style>\n",
       "<table border=\"1\" class=\"dataframe\">\n",
       "  <thead>\n",
       "    <tr style=\"text-align: right;\">\n",
       "      <th></th>\n",
       "      <th>0</th>\n",
       "      <th>2</th>\n",
       "      <th>3</th>\n",
       "      <th>4</th>\n",
       "      <th>9</th>\n",
       "      <th>11</th>\n",
       "      <th>13</th>\n",
       "    </tr>\n",
       "  </thead>\n",
       "  <tbody>\n",
       "    <tr>\n",
       "      <th>0</th>\n",
       "      <td>gender</td>\n",
       "      <td>weight</td>\n",
       "      <td>age</td>\n",
       "      <td>carage</td>\n",
       "      <td>dist_wt</td>\n",
       "      <td>dist_cage</td>\n",
       "      <td>wt_cage</td>\n",
       "    </tr>\n",
       "    <tr>\n",
       "      <th>importances</th>\n",
       "      <td>0.096303</td>\n",
       "      <td>0.109485</td>\n",
       "      <td>0.157438</td>\n",
       "      <td>0.0745</td>\n",
       "      <td>0.086788</td>\n",
       "      <td>0.08831</td>\n",
       "      <td>0.211726</td>\n",
       "    </tr>\n",
       "  </tbody>\n",
       "</table>\n",
       "</div>"
      ],
      "text/plain": [
       "                   0         2         3       4         9          11  \\\n",
       "0              gender    weight       age  carage   dist_wt  dist_cage   \n",
       "importances  0.096303  0.109485  0.157438  0.0745  0.086788    0.08831   \n",
       "\n",
       "                   13  \n",
       "0             wt_cage  \n",
       "importances  0.211726  "
      ]
     },
     "execution_count": 352,
     "metadata": {},
     "output_type": "execute_result"
    }
   ],
   "source": [
    "#retain only those features with importance greater than the mean feature importance\n",
    "imp_feats=feat_imp[feat_imp['importances']>xgb.feature_importances_.mean()]\n",
    "imp_feats.transpose()"
   ]
  }
 ],
 "metadata": {
  "kernelspec": {
   "display_name": "Python 3 (ipykernel)",
   "language": "python",
   "name": "python3"
  },
  "language_info": {
   "codemirror_mode": {
    "name": "ipython",
    "version": 3
   },
   "file_extension": ".py",
   "mimetype": "text/x-python",
   "name": "python",
   "nbconvert_exporter": "python",
   "pygments_lexer": "ipython3",
   "version": "3.8.11"
  }
 },
 "nbformat": 4,
 "nbformat_minor": 5
}
